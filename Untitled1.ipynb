{
  "nbformat": 4,
  "nbformat_minor": 0,
  "metadata": {
    "colab": {
      "provenance": [],
      "authorship_tag": "ABX9TyNaL8ygbMLJ960iV8bN0LNP",
      "include_colab_link": true
    },
    "kernelspec": {
      "name": "python3",
      "display_name": "Python 3"
    },
    "language_info": {
      "name": "python"
    }
  },
  "cells": [
    {
      "cell_type": "markdown",
      "metadata": {
        "id": "view-in-github",
        "colab_type": "text"
      },
      "source": [
        "<a href=\"https://colab.research.google.com/github/Naresh602306/CALENDAR-2025/blob/main/Untitled1.ipynb\" target=\"_parent\"><img src=\"https://colab.research.google.com/assets/colab-badge.svg\" alt=\"Open In Colab\"/></a>"
      ]
    },
    {
      "cell_type": "code",
      "execution_count": 3,
      "metadata": {
        "id": "PKOyuGJHFdEE"
      },
      "outputs": [],
      "source": [
        "import numpy as np\n"
      ]
    },
    {
      "cell_type": "code",
      "source": [
        "mat = np.zeros((3,3))\n",
        "mat"
      ],
      "metadata": {
        "colab": {
          "base_uri": "https://localhost:8080/"
        },
        "id": "H7JKSZDlHM1f",
        "outputId": "eef9f7fe-3756-425a-b814-017a2dc1540e"
      },
      "execution_count": 9,
      "outputs": [
        {
          "output_type": "execute_result",
          "data": {
            "text/plain": [
              "array([[0., 0., 0.],\n",
              "       [0., 0., 0.],\n",
              "       [0., 0., 0.]])"
            ]
          },
          "metadata": {},
          "execution_count": 9
        }
      ]
    },
    {
      "cell_type": "code",
      "source": [
        "arr1 =np.array([1,2,0,0,4,0])\n",
        "answer = np.nonzero(arr1)\n",
        "answer"
      ],
      "metadata": {
        "colab": {
          "base_uri": "https://localhost:8080/"
        },
        "id": "imKA4YWsIFzk",
        "outputId": "628dd953-1fb3-411f-bf59-cafc6b4bcde8"
      },
      "execution_count": 10,
      "outputs": [
        {
          "output_type": "execute_result",
          "data": {
            "text/plain": [
              "(array([0, 1, 4]),)"
            ]
          },
          "metadata": {},
          "execution_count": 10
        }
      ]
    },
    {
      "cell_type": "code",
      "source": [
        "arr = np.random.random((3,3,3))\n",
        "arr"
      ],
      "metadata": {
        "colab": {
          "base_uri": "https://localhost:8080/"
        },
        "id": "Rf_kwcxPJD99",
        "outputId": "19790cde-c9d2-4504-fc33-83da0052cdc0"
      },
      "execution_count": 13,
      "outputs": [
        {
          "output_type": "execute_result",
          "data": {
            "text/plain": [
              "array([[[0.38012079, 0.74290721, 0.87076901],\n",
              "        [0.55654665, 0.49987124, 0.66549712],\n",
              "        [0.10510048, 0.00448688, 0.21875038]],\n",
              "\n",
              "       [[0.18539498, 0.13200531, 0.8188383 ],\n",
              "        [0.66614161, 0.16161987, 0.60304035],\n",
              "        [0.27779816, 0.13420178, 0.15846158]],\n",
              "\n",
              "       [[0.82777428, 0.66012754, 0.38968237],\n",
              "        [0.17795556, 0.20393808, 0.86980478],\n",
              "        [0.13592605, 0.09687737, 0.80999543]]])"
            ]
          },
          "metadata": {},
          "execution_count": 13
        }
      ]
    },
    {
      "cell_type": "code",
      "source": [
        "arr_10 = np.random.rand(10,10)\n",
        "val_main = np.min(arr_10)\n",
        "val_max = np.max(arr_10)\n",
        "print(val_max, val_main)\n"
      ],
      "metadata": {
        "colab": {
          "base_uri": "https://localhost:8080/"
        },
        "id": "XC8C0_-FJ5Sj",
        "outputId": "e6500828-f8dc-4139-cf34-732f7dd02028"
      },
      "execution_count": 15,
      "outputs": [
        {
          "output_type": "stream",
          "name": "stdout",
          "text": [
            "0.9906299826004787 0.0074548374013241325\n"
          ]
        }
      ]
    },
    {
      "cell_type": "code",
      "source": [
        "value = np.random.rand(30)\n",
        "mean_value = np.mean(value)\n",
        "print(mean_value)"
      ],
      "metadata": {
        "colab": {
          "base_uri": "https://localhost:8080/"
        },
        "id": "HovvE5FfLHCH",
        "outputId": "c91d3ee3-7412-4892-cf34-724cd42b78e9"
      },
      "execution_count": 18,
      "outputs": [
        {
          "output_type": "stream",
          "name": "stdout",
          "text": [
            "0.4168087186247076\n"
          ]
        }
      ]
    },
    {
      "cell_type": "code",
      "source": [
        "value = np.ones((4,4),dtype=int)\n",
        "value[1 :1 , 1: 1 ]\n",
        "value"
      ],
      "metadata": {
        "colab": {
          "base_uri": "https://localhost:8080/"
        },
        "id": "3PAJMjpoMdQU",
        "outputId": "7e322c80-1417-43a1-810d-11dc28e62465"
      },
      "execution_count": 34,
      "outputs": [
        {
          "output_type": "execute_result",
          "data": {
            "text/plain": [
              "array([[1, 1, 1, 1],\n",
              "       [1, 1, 1, 1],\n",
              "       [1, 1, 1, 1],\n",
              "       [1, 1, 1, 1]])"
            ]
          },
          "metadata": {},
          "execution_count": 34
        }
      ]
    },
    {
      "cell_type": "code",
      "source": [
        "value = np.ones((4,4),dtype=int)\n",
        "value[1:-1,1:-1]=0\n",
        "value"
      ],
      "metadata": {
        "colab": {
          "base_uri": "https://localhost:8080/"
        },
        "id": "R4aI5Ud-NFwO",
        "outputId": "6d720a88-a99a-4fa9-c44e-ac577e368ac6"
      },
      "execution_count": 36,
      "outputs": [
        {
          "output_type": "execute_result",
          "data": {
            "text/plain": [
              "array([[1, 1, 1, 1],\n",
              "       [1, 0, 0, 1],\n",
              "       [1, 0, 0, 1],\n",
              "       [1, 1, 1, 1]])"
            ]
          },
          "metadata": {},
          "execution_count": 36
        }
      ]
    },
    {
      "cell_type": "code",
      "source": [],
      "metadata": {
        "id": "7SEHkRjWPYT0"
      },
      "execution_count": null,
      "outputs": []
    }
  ]
}